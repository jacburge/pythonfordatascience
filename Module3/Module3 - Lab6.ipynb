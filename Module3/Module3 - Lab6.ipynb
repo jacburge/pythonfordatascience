{
 "cells": [
  {
   "cell_type": "markdown",
   "metadata": {},
   "source": [
    "# DAT210x - Programming with Python for DS"
   ]
  },
  {
   "cell_type": "markdown",
   "metadata": {},
   "source": [
    "## Module3 - Lab6"
   ]
  },
  {
   "cell_type": "code",
   "execution_count": 1,
   "metadata": {
    "collapsed": true
   },
   "outputs": [],
   "source": [
    "import pandas as pd\n",
    "import matplotlib.pyplot as plt\n",
    "import matplotlib"
   ]
  },
  {
   "cell_type": "code",
   "execution_count": 2,
   "metadata": {
    "collapsed": true
   },
   "outputs": [],
   "source": [
    "# Look pretty...\n",
    "\n",
    "# matplotlib.style.use('ggplot')\n",
    "plt.style.use('ggplot')"
   ]
  },
  {
   "cell_type": "markdown",
   "metadata": {},
   "source": [
    "Load up the wheat seeds dataset into a dataframe. We've stored a copy in the Datasets directory."
   ]
  },
  {
   "cell_type": "code",
   "execution_count": 3,
   "metadata": {
    "collapsed": false
   },
   "outputs": [
    {
     "data": {
      "text/html": [
       "<div>\n",
       "<table border=\"1\" class=\"dataframe\">\n",
       "  <thead>\n",
       "    <tr style=\"text-align: right;\">\n",
       "      <th></th>\n",
       "      <th>area</th>\n",
       "      <th>perimeter</th>\n",
       "      <th>compactness</th>\n",
       "      <th>length</th>\n",
       "      <th>width</th>\n",
       "      <th>asymmetry</th>\n",
       "      <th>groove</th>\n",
       "      <th>wheat_type</th>\n",
       "    </tr>\n",
       "  </thead>\n",
       "  <tbody>\n",
       "    <tr>\n",
       "      <th>0</th>\n",
       "      <td>15.26</td>\n",
       "      <td>14.84</td>\n",
       "      <td>0.8710</td>\n",
       "      <td>5.763</td>\n",
       "      <td>3.312</td>\n",
       "      <td>2.221</td>\n",
       "      <td>5.220</td>\n",
       "      <td>kama</td>\n",
       "    </tr>\n",
       "    <tr>\n",
       "      <th>1</th>\n",
       "      <td>14.88</td>\n",
       "      <td>14.57</td>\n",
       "      <td>0.8811</td>\n",
       "      <td>5.554</td>\n",
       "      <td>3.333</td>\n",
       "      <td>1.018</td>\n",
       "      <td>4.956</td>\n",
       "      <td>kama</td>\n",
       "    </tr>\n",
       "    <tr>\n",
       "      <th>2</th>\n",
       "      <td>14.29</td>\n",
       "      <td>14.09</td>\n",
       "      <td>0.9050</td>\n",
       "      <td>5.291</td>\n",
       "      <td>3.337</td>\n",
       "      <td>2.699</td>\n",
       "      <td>4.825</td>\n",
       "      <td>kama</td>\n",
       "    </tr>\n",
       "    <tr>\n",
       "      <th>3</th>\n",
       "      <td>13.84</td>\n",
       "      <td>13.94</td>\n",
       "      <td>0.8955</td>\n",
       "      <td>5.324</td>\n",
       "      <td>3.379</td>\n",
       "      <td>2.259</td>\n",
       "      <td>4.805</td>\n",
       "      <td>kama</td>\n",
       "    </tr>\n",
       "    <tr>\n",
       "      <th>4</th>\n",
       "      <td>16.14</td>\n",
       "      <td>14.99</td>\n",
       "      <td>0.9034</td>\n",
       "      <td>5.658</td>\n",
       "      <td>3.562</td>\n",
       "      <td>1.355</td>\n",
       "      <td>5.175</td>\n",
       "      <td>kama</td>\n",
       "    </tr>\n",
       "  </tbody>\n",
       "</table>\n",
       "</div>"
      ],
      "text/plain": [
       "    area  perimeter  compactness  length  width  asymmetry  groove wheat_type\n",
       "0  15.26      14.84       0.8710   5.763  3.312      2.221   5.220       kama\n",
       "1  14.88      14.57       0.8811   5.554  3.333      1.018   4.956       kama\n",
       "2  14.29      14.09       0.9050   5.291  3.337      2.699   4.825       kama\n",
       "3  13.84      13.94       0.8955   5.324  3.379      2.259   4.805       kama\n",
       "4  16.14      14.99       0.9034   5.658  3.562      1.355   5.175       kama"
      ]
     },
     "execution_count": 3,
     "metadata": {},
     "output_type": "execute_result"
    }
   ],
   "source": [
    "# .. your code here ..\n",
    "df = pd.read_csv('Datasets/wheat.data',header=0,index_col=0)\n",
    "df.index.name = None\n",
    "df.head()"
   ]
  },
  {
   "cell_type": "markdown",
   "metadata": {},
   "source": [
    "If you loaded the `id` column as a feature (hint: _you shouldn't have!_), then be sure to drop it."
   ]
  },
  {
   "cell_type": "code",
   "execution_count": null,
   "metadata": {
    "collapsed": true
   },
   "outputs": [],
   "source": [
    "# .. your code here .."
   ]
  },
  {
   "cell_type": "markdown",
   "metadata": {},
   "source": [
    "Compute the correlation matrix of your dataframe:"
   ]
  },
  {
   "cell_type": "code",
   "execution_count": 5,
   "metadata": {
    "collapsed": false
   },
   "outputs": [
    {
     "data": {
      "text/html": [
       "<div>\n",
       "<table border=\"1\" class=\"dataframe\">\n",
       "  <thead>\n",
       "    <tr style=\"text-align: right;\">\n",
       "      <th></th>\n",
       "      <th>area</th>\n",
       "      <th>perimeter</th>\n",
       "      <th>compactness</th>\n",
       "      <th>length</th>\n",
       "      <th>width</th>\n",
       "      <th>asymmetry</th>\n",
       "      <th>groove</th>\n",
       "    </tr>\n",
       "  </thead>\n",
       "  <tbody>\n",
       "    <tr>\n",
       "      <th>area</th>\n",
       "      <td>1.000000</td>\n",
       "      <td>0.994341</td>\n",
       "      <td>0.600312</td>\n",
       "      <td>0.645418</td>\n",
       "      <td>0.801616</td>\n",
       "      <td>-0.205876</td>\n",
       "      <td>0.786096</td>\n",
       "    </tr>\n",
       "    <tr>\n",
       "      <th>perimeter</th>\n",
       "      <td>0.994341</td>\n",
       "      <td>1.000000</td>\n",
       "      <td>0.520544</td>\n",
       "      <td>0.657490</td>\n",
       "      <td>0.783188</td>\n",
       "      <td>-0.196360</td>\n",
       "      <td>0.813256</td>\n",
       "    </tr>\n",
       "    <tr>\n",
       "      <th>compactness</th>\n",
       "      <td>0.600312</td>\n",
       "      <td>0.520544</td>\n",
       "      <td>1.000000</td>\n",
       "      <td>0.360060</td>\n",
       "      <td>0.756165</td>\n",
       "      <td>-0.315668</td>\n",
       "      <td>0.236184</td>\n",
       "    </tr>\n",
       "    <tr>\n",
       "      <th>length</th>\n",
       "      <td>0.645418</td>\n",
       "      <td>0.657490</td>\n",
       "      <td>0.360060</td>\n",
       "      <td>1.000000</td>\n",
       "      <td>0.197228</td>\n",
       "      <td>-0.102325</td>\n",
       "      <td>0.669887</td>\n",
       "    </tr>\n",
       "    <tr>\n",
       "      <th>width</th>\n",
       "      <td>0.801616</td>\n",
       "      <td>0.783188</td>\n",
       "      <td>0.756165</td>\n",
       "      <td>0.197228</td>\n",
       "      <td>1.000000</td>\n",
       "      <td>-0.249378</td>\n",
       "      <td>0.619865</td>\n",
       "    </tr>\n",
       "    <tr>\n",
       "      <th>asymmetry</th>\n",
       "      <td>-0.205876</td>\n",
       "      <td>-0.196360</td>\n",
       "      <td>-0.315668</td>\n",
       "      <td>-0.102325</td>\n",
       "      <td>-0.249378</td>\n",
       "      <td>1.000000</td>\n",
       "      <td>-0.039248</td>\n",
       "    </tr>\n",
       "    <tr>\n",
       "      <th>groove</th>\n",
       "      <td>0.786096</td>\n",
       "      <td>0.813256</td>\n",
       "      <td>0.236184</td>\n",
       "      <td>0.669887</td>\n",
       "      <td>0.619865</td>\n",
       "      <td>-0.039248</td>\n",
       "      <td>1.000000</td>\n",
       "    </tr>\n",
       "  </tbody>\n",
       "</table>\n",
       "</div>"
      ],
      "text/plain": [
       "                 area  perimeter  compactness    length     width  asymmetry  \\\n",
       "area         1.000000   0.994341     0.600312  0.645418  0.801616  -0.205876   \n",
       "perimeter    0.994341   1.000000     0.520544  0.657490  0.783188  -0.196360   \n",
       "compactness  0.600312   0.520544     1.000000  0.360060  0.756165  -0.315668   \n",
       "length       0.645418   0.657490     0.360060  1.000000  0.197228  -0.102325   \n",
       "width        0.801616   0.783188     0.756165  0.197228  1.000000  -0.249378   \n",
       "asymmetry   -0.205876  -0.196360    -0.315668 -0.102325 -0.249378   1.000000   \n",
       "groove       0.786096   0.813256     0.236184  0.669887  0.619865  -0.039248   \n",
       "\n",
       "               groove  \n",
       "area         0.786096  \n",
       "perimeter    0.813256  \n",
       "compactness  0.236184  \n",
       "length       0.669887  \n",
       "width        0.619865  \n",
       "asymmetry   -0.039248  \n",
       "groove       1.000000  "
      ]
     },
     "execution_count": 5,
     "metadata": {},
     "output_type": "execute_result"
    }
   ],
   "source": [
    "# .. your code here ..\n",
    "df.corr()"
   ]
  },
  {
   "cell_type": "markdown",
   "metadata": {},
   "source": [
    "Graph the correlation matrix using `imshow` or `matshow`:"
   ]
  },
  {
   "cell_type": "code",
   "execution_count": 9,
   "metadata": {
    "collapsed": false
   },
   "outputs": [
    {
     "data": {
      "text/plain": [
       "([<matplotlib.axis.YTick at 0x118f34940>,\n",
       "  <matplotlib.axis.YTick at 0x118f46ef0>,\n",
       "  <matplotlib.axis.YTick at 0x118f3b710>,\n",
       "  <matplotlib.axis.YTick at 0x118f30198>,\n",
       "  <matplotlib.axis.YTick at 0x118bb0d30>,\n",
       "  <matplotlib.axis.YTick at 0x118baf7b8>,\n",
       "  <matplotlib.axis.YTick at 0x118bb7240>,\n",
       "  <matplotlib.axis.YTick at 0x118bb7c88>],\n",
       " <a list of 8 Text yticklabel objects>)"
      ]
     },
     "execution_count": 9,
     "metadata": {},
     "output_type": "execute_result"
    }
   ],
   "source": [
    "# .. your code here ..\n",
    "plt.imshow(df.corr(), cmap=plt.cm.Blues, interpolation='nearest')\n",
    "plt.colorbar()\n",
    "tick_marks = [i for i in range(len(df.columns))]\n",
    "plt.xticks(tick_marks, df.columns, rotation='vertical')\n",
    "plt.yticks(tick_marks, df.columns)"
   ]
  },
  {
   "cell_type": "code",
   "execution_count": 10,
   "metadata": {
    "collapsed": true
   },
   "outputs": [],
   "source": [
    "# Display the graphs:\n",
    "plt.show()"
   ]
  },
  {
   "cell_type": "code",
   "execution_count": null,
   "metadata": {
    "collapsed": true
   },
   "outputs": [],
   "source": []
  }
 ],
 "metadata": {
  "anaconda-cloud": {},
  "kernelspec": {
   "display_name": "Python [conda root]",
   "language": "python",
   "name": "conda-root-py"
  },
  "language_info": {
   "codemirror_mode": {
    "name": "ipython",
    "version": 2
   },
   "file_extension": ".py",
   "mimetype": "text/x-python",
   "name": "python",
   "nbconvert_exporter": "python",
   "pygments_lexer": "ipython2",
   "version": "2.7.12"
  },
  "toc": {
   "colors": {
    "hover_highlight": "#DAA520",
    "running_highlight": "#FF0000",
    "selected_highlight": "#FFD700"
   },
   "moveMenuLeft": true,
   "nav_menu": {
    "height": "58px",
    "width": "252px"
   },
   "navigate_menu": true,
   "number_sections": true,
   "sideBar": true,
   "threshold": 4,
   "toc_cell": false,
   "toc_section_display": "block",
   "toc_window_display": false,
   "widenNotebook": false
  }
 },
 "nbformat": 4,
 "nbformat_minor": 2
}
